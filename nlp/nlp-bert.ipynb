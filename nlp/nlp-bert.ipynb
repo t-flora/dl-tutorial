{
 "cells": [
  {
   "cell_type": "markdown",
   "metadata": {},
   "source": [
    "# Deep Learning for Natural Language Processing\n",
    "\n",
    "Steps\n",
    "- Data preprocessing\n",
    "    - Loading dataset\n",
    "    - Cleaning dataset\n",
    "- Loading pre-trained model\n",
    "- Fine-tuning\n",
    "- Evaluation"
   ]
  },
  {
   "cell_type": "markdown",
   "metadata": {},
   "source": [
    "### Data preprocessing"
   ]
  },
  {
   "cell_type": "code",
   "execution_count": null,
   "metadata": {},
   "outputs": [
    {
     "name": "stderr",
     "output_type": "stream",
     "text": [
      "/mnt/c/Users/TFLORA/dl-tutorial/venv/lib/python3.8/site-packages/tqdm/auto.py:22: TqdmWarning: IProgress not found. Please update jupyter and ipywidgets. See https://ipywidgets.readthedocs.io/en/stable/user_install.html\n",
      "  from .autonotebook import tqdm as notebook_tqdm\n"
     ]
    },
    {
     "data": {
      "text/plain": [
       "<torch._C.Generator at 0x7fcc57031f10>"
      ]
     },
     "execution_count": 1,
     "metadata": {},
     "output_type": "execute_result"
    }
   ],
   "source": [
    "import pandas as pd\n",
    "import numpy as np\n",
    "import torch\n",
    "import zipfile\n",
    "import seaborn as sns\n",
    "import transformers\n",
    "from transformers import (\n",
    "    BertModel, BertTokenizer, AdamW, \\\n",
    "    get_linear_schedule_with_warmup\n",
    ")\n",
    "\n",
    "SEED = 2022\n",
    "np.random.seed(SEED)\n",
    "torch.manual_seed(SEED)"
   ]
  },
  {
   "cell_type": "code",
   "execution_count": 9,
   "metadata": {},
   "outputs": [],
   "source": [
    "data_path = \"archive.zip\"\n",
    "train_f = \"Train.csv\"\n",
    "test_f = \"Test.csv\"\n",
    "valid_f = \"Valid.csv\"\n",
    "\n",
    "def read_data(data_path):\n",
    "    zf = zipfile.ZipFile(data_path)\n",
    "    train_df = pd.read_csv(zf.open(train_f))\n",
    "    test_df = pd.read_csv(zf.open(test_f))\n",
    "    valid_df = pd.read_csv(zf.open(valid_f))\n",
    "    d = {\"train\":train_df, \"test\":test_df, \"validation\":valid_df}\n",
    "    return d\n",
    "\n",
    "data = read_data(data_path)\n",
    "train = data['train']\n",
    "train['set'] = 0\n",
    "test = data['test']\n",
    "test['set'] = 1\n",
    "valid = data['validation']\n",
    "valid['set'] = 2\n",
    "df = pd.concat([train, test, valid], ignore_index=True)"
   ]
  },
  {
   "cell_type": "code",
   "execution_count": 3,
   "metadata": {},
   "outputs": [
    {
     "data": {
      "text/html": [
       "<div>\n",
       "<style scoped>\n",
       "    .dataframe tbody tr th:only-of-type {\n",
       "        vertical-align: middle;\n",
       "    }\n",
       "\n",
       "    .dataframe tbody tr th {\n",
       "        vertical-align: top;\n",
       "    }\n",
       "\n",
       "    .dataframe thead th {\n",
       "        text-align: right;\n",
       "    }\n",
       "</style>\n",
       "<table border=\"1\" class=\"dataframe\">\n",
       "  <thead>\n",
       "    <tr style=\"text-align: right;\">\n",
       "      <th></th>\n",
       "      <th>text</th>\n",
       "      <th>label</th>\n",
       "    </tr>\n",
       "  </thead>\n",
       "  <tbody>\n",
       "    <tr>\n",
       "      <th>0</th>\n",
       "      <td>I grew up (b. 1965) watching and loving the Th...</td>\n",
       "      <td>0</td>\n",
       "    </tr>\n",
       "    <tr>\n",
       "      <th>1</th>\n",
       "      <td>When I put this movie in my DVD player, and sa...</td>\n",
       "      <td>0</td>\n",
       "    </tr>\n",
       "    <tr>\n",
       "      <th>2</th>\n",
       "      <td>Why do people who do not know what a particula...</td>\n",
       "      <td>0</td>\n",
       "    </tr>\n",
       "    <tr>\n",
       "      <th>3</th>\n",
       "      <td>Even though I have great interest in Biblical ...</td>\n",
       "      <td>0</td>\n",
       "    </tr>\n",
       "    <tr>\n",
       "      <th>4</th>\n",
       "      <td>Im a die hard Dads Army fan and nothing will e...</td>\n",
       "      <td>1</td>\n",
       "    </tr>\n",
       "  </tbody>\n",
       "</table>\n",
       "</div>"
      ],
      "text/plain": [
       "                                                text  label\n",
       "0  I grew up (b. 1965) watching and loving the Th...      0\n",
       "1  When I put this movie in my DVD player, and sa...      0\n",
       "2  Why do people who do not know what a particula...      0\n",
       "3  Even though I have great interest in Biblical ...      0\n",
       "4  Im a die hard Dads Army fan and nothing will e...      1"
      ]
     },
     "execution_count": 3,
     "metadata": {},
     "output_type": "execute_result"
    }
   ],
   "source": [
    "train.head()"
   ]
  },
  {
   "cell_type": "code",
   "execution_count": 5,
   "metadata": {},
   "outputs": [
    {
     "name": "stdout",
     "output_type": "stream",
     "text": [
      "<class 'pandas.core.frame.DataFrame'>\n",
      "RangeIndex: 40000 entries, 0 to 39999\n",
      "Data columns (total 2 columns):\n",
      " #   Column  Non-Null Count  Dtype \n",
      "---  ------  --------------  ----- \n",
      " 0   text    40000 non-null  object\n",
      " 1   label   40000 non-null  int64 \n",
      "dtypes: int64(1), object(1)\n",
      "memory usage: 625.1+ KB\n"
     ]
    }
   ],
   "source": [
    "train.info()"
   ]
  },
  {
   "cell_type": "code",
   "execution_count": 6,
   "metadata": {},
   "outputs": [
    {
     "name": "stderr",
     "output_type": "stream",
     "text": [
      "Downloading: 100%|██████████| 213k/213k [00:00<00:00, 675kB/s] \n"
     ]
    }
   ],
   "source": [
    "PRE_TRAINED_MODEL = 'bert-base-cased'\n",
    "tokenizer = BertTokenizer.from_pretrained(PRE_TRAINED_MODEL)"
   ]
  },
  {
   "cell_type": "code",
   "execution_count": 12,
   "metadata": {},
   "outputs": [
    {
     "ename": "KeyboardInterrupt",
     "evalue": "",
     "output_type": "error",
     "traceback": [
      "\u001b[0;31m---------------------------------------------------------------------------\u001b[0m",
      "\u001b[0;31mKeyboardInterrupt\u001b[0m                         Traceback (most recent call last)",
      "\u001b[1;32m/mnt/c/Users/TFLORA/dl-tutorial/nlp/nlp-bert.ipynb Cell 7'\u001b[0m in \u001b[0;36m<cell line: 2>\u001b[0;34m()\u001b[0m\n\u001b[1;32m      <a href='vscode-notebook-cell://wsl%2Bubuntu/mnt/c/Users/TFLORA/dl-tutorial/nlp/nlp-bert.ipynb#ch0000008vscode-remote?line=0'>1</a>\u001b[0m token_lens \u001b[39m=\u001b[39m []\n\u001b[1;32m      <a href='vscode-notebook-cell://wsl%2Bubuntu/mnt/c/Users/TFLORA/dl-tutorial/nlp/nlp-bert.ipynb#ch0000008vscode-remote?line=1'>2</a>\u001b[0m \u001b[39mfor\u001b[39;00m review \u001b[39min\u001b[39;00m df\u001b[39m.\u001b[39mtext:\n\u001b[0;32m----> <a href='vscode-notebook-cell://wsl%2Bubuntu/mnt/c/Users/TFLORA/dl-tutorial/nlp/nlp-bert.ipynb#ch0000008vscode-remote?line=2'>3</a>\u001b[0m     tokens \u001b[39m=\u001b[39m tokenizer\u001b[39m.\u001b[39;49mencode(review, max_length\u001b[39m=\u001b[39;49m\u001b[39m512\u001b[39;49m)\n",
      "File \u001b[0;32m/mnt/c/Users/TFLORA/dl-tutorial/venv/lib/python3.8/site-packages/transformers/tokenization_utils.py:910\u001b[0m, in \u001b[0;36mPreTrainedTokenizer.encode\u001b[0;34m(self, text, text_pair, add_special_tokens, max_length, stride, truncation_strategy, pad_to_max_length, return_tensors, **kwargs)\u001b[0m\n\u001b[1;32m    <a href='file:///mnt/c/Users/TFLORA/dl-tutorial/venv/lib/python3.8/site-packages/transformers/tokenization_utils.py?line=852'>853</a>\u001b[0m \u001b[39mdef\u001b[39;00m \u001b[39mencode\u001b[39m(\n\u001b[1;32m    <a href='file:///mnt/c/Users/TFLORA/dl-tutorial/venv/lib/python3.8/site-packages/transformers/tokenization_utils.py?line=853'>854</a>\u001b[0m     \u001b[39mself\u001b[39m,\n\u001b[1;32m    <a href='file:///mnt/c/Users/TFLORA/dl-tutorial/venv/lib/python3.8/site-packages/transformers/tokenization_utils.py?line=854'>855</a>\u001b[0m     text: \u001b[39mstr\u001b[39m,\n\u001b[0;32m   (...)\u001b[0m\n\u001b[1;32m    <a href='file:///mnt/c/Users/TFLORA/dl-tutorial/venv/lib/python3.8/site-packages/transformers/tokenization_utils.py?line=862'>863</a>\u001b[0m     \u001b[39m*\u001b[39m\u001b[39m*\u001b[39mkwargs\n\u001b[1;32m    <a href='file:///mnt/c/Users/TFLORA/dl-tutorial/venv/lib/python3.8/site-packages/transformers/tokenization_utils.py?line=863'>864</a>\u001b[0m ):\n\u001b[1;32m    <a href='file:///mnt/c/Users/TFLORA/dl-tutorial/venv/lib/python3.8/site-packages/transformers/tokenization_utils.py?line=864'>865</a>\u001b[0m     \u001b[39m\"\"\"\u001b[39;00m\n\u001b[1;32m    <a href='file:///mnt/c/Users/TFLORA/dl-tutorial/venv/lib/python3.8/site-packages/transformers/tokenization_utils.py?line=865'>866</a>\u001b[0m \u001b[39m    Converts a string in a sequence of ids (integer), using the tokenizer and vocabulary.\u001b[39;00m\n\u001b[1;32m    <a href='file:///mnt/c/Users/TFLORA/dl-tutorial/venv/lib/python3.8/site-packages/transformers/tokenization_utils.py?line=866'>867</a>\u001b[0m \n\u001b[0;32m   (...)\u001b[0m\n\u001b[1;32m    <a href='file:///mnt/c/Users/TFLORA/dl-tutorial/venv/lib/python3.8/site-packages/transformers/tokenization_utils.py?line=907'>908</a>\u001b[0m \u001b[39m        **kwargs: passed to the `self.tokenize()` method\u001b[39;00m\n\u001b[1;32m    <a href='file:///mnt/c/Users/TFLORA/dl-tutorial/venv/lib/python3.8/site-packages/transformers/tokenization_utils.py?line=908'>909</a>\u001b[0m \u001b[39m    \"\"\"\u001b[39;00m\n\u001b[0;32m--> <a href='file:///mnt/c/Users/TFLORA/dl-tutorial/venv/lib/python3.8/site-packages/transformers/tokenization_utils.py?line=909'>910</a>\u001b[0m     encoded_inputs \u001b[39m=\u001b[39m \u001b[39mself\u001b[39;49m\u001b[39m.\u001b[39;49mencode_plus(\n\u001b[1;32m    <a href='file:///mnt/c/Users/TFLORA/dl-tutorial/venv/lib/python3.8/site-packages/transformers/tokenization_utils.py?line=910'>911</a>\u001b[0m         text,\n\u001b[1;32m    <a href='file:///mnt/c/Users/TFLORA/dl-tutorial/venv/lib/python3.8/site-packages/transformers/tokenization_utils.py?line=911'>912</a>\u001b[0m         text_pair\u001b[39m=\u001b[39;49mtext_pair,\n\u001b[1;32m    <a href='file:///mnt/c/Users/TFLORA/dl-tutorial/venv/lib/python3.8/site-packages/transformers/tokenization_utils.py?line=912'>913</a>\u001b[0m         max_length\u001b[39m=\u001b[39;49mmax_length,\n\u001b[1;32m    <a href='file:///mnt/c/Users/TFLORA/dl-tutorial/venv/lib/python3.8/site-packages/transformers/tokenization_utils.py?line=913'>914</a>\u001b[0m         add_special_tokens\u001b[39m=\u001b[39;49madd_special_tokens,\n\u001b[1;32m    <a href='file:///mnt/c/Users/TFLORA/dl-tutorial/venv/lib/python3.8/site-packages/transformers/tokenization_utils.py?line=914'>915</a>\u001b[0m         stride\u001b[39m=\u001b[39;49mstride,\n\u001b[1;32m    <a href='file:///mnt/c/Users/TFLORA/dl-tutorial/venv/lib/python3.8/site-packages/transformers/tokenization_utils.py?line=915'>916</a>\u001b[0m         truncation_strategy\u001b[39m=\u001b[39;49mtruncation_strategy,\n\u001b[1;32m    <a href='file:///mnt/c/Users/TFLORA/dl-tutorial/venv/lib/python3.8/site-packages/transformers/tokenization_utils.py?line=916'>917</a>\u001b[0m         pad_to_max_length\u001b[39m=\u001b[39;49mpad_to_max_length,\n\u001b[1;32m    <a href='file:///mnt/c/Users/TFLORA/dl-tutorial/venv/lib/python3.8/site-packages/transformers/tokenization_utils.py?line=917'>918</a>\u001b[0m         return_tensors\u001b[39m=\u001b[39;49mreturn_tensors,\n\u001b[1;32m    <a href='file:///mnt/c/Users/TFLORA/dl-tutorial/venv/lib/python3.8/site-packages/transformers/tokenization_utils.py?line=918'>919</a>\u001b[0m         \u001b[39m*\u001b[39;49m\u001b[39m*\u001b[39;49mkwargs,\n\u001b[1;32m    <a href='file:///mnt/c/Users/TFLORA/dl-tutorial/venv/lib/python3.8/site-packages/transformers/tokenization_utils.py?line=919'>920</a>\u001b[0m     )\n\u001b[1;32m    <a href='file:///mnt/c/Users/TFLORA/dl-tutorial/venv/lib/python3.8/site-packages/transformers/tokenization_utils.py?line=921'>922</a>\u001b[0m     \u001b[39mreturn\u001b[39;00m encoded_inputs[\u001b[39m\"\u001b[39m\u001b[39minput_ids\u001b[39m\u001b[39m\"\u001b[39m]\n",
      "File \u001b[0;32m/mnt/c/Users/TFLORA/dl-tutorial/venv/lib/python3.8/site-packages/transformers/tokenization_utils.py:1054\u001b[0m, in \u001b[0;36mPreTrainedTokenizer.encode_plus\u001b[0;34m(self, text, text_pair, add_special_tokens, max_length, stride, truncation_strategy, pad_to_max_length, return_tensors, return_token_type_ids, return_attention_mask, return_overflowing_tokens, return_special_tokens_mask, return_offsets_mapping, **kwargs)\u001b[0m\n\u001b[1;32m   <a href='file:///mnt/c/Users/TFLORA/dl-tutorial/venv/lib/python3.8/site-packages/transformers/tokenization_utils.py?line=1048'>1049</a>\u001b[0m \u001b[39mif\u001b[39;00m pad_to_max_length \u001b[39mand\u001b[39;00m \u001b[39mself\u001b[39m\u001b[39m.\u001b[39mpad_token_id \u001b[39mis\u001b[39;00m \u001b[39mNone\u001b[39;00m:\n\u001b[1;32m   <a href='file:///mnt/c/Users/TFLORA/dl-tutorial/venv/lib/python3.8/site-packages/transformers/tokenization_utils.py?line=1049'>1050</a>\u001b[0m     \u001b[39mraise\u001b[39;00m \u001b[39mValueError\u001b[39;00m(\n\u001b[1;32m   <a href='file:///mnt/c/Users/TFLORA/dl-tutorial/venv/lib/python3.8/site-packages/transformers/tokenization_utils.py?line=1050'>1051</a>\u001b[0m         \u001b[39m\"\u001b[39m\u001b[39mUnable to set proper padding strategy as the tokenizer does not have a padding token. In this case please set the `pad_token` `(tokenizer.pad_token = tokenizer.eos_token e.g.)` or add a new pad token via the function add_special_tokens if you want to use a padding strategy\u001b[39m\u001b[39m\"\u001b[39m\n\u001b[1;32m   <a href='file:///mnt/c/Users/TFLORA/dl-tutorial/venv/lib/python3.8/site-packages/transformers/tokenization_utils.py?line=1051'>1052</a>\u001b[0m     )\n\u001b[0;32m-> <a href='file:///mnt/c/Users/TFLORA/dl-tutorial/venv/lib/python3.8/site-packages/transformers/tokenization_utils.py?line=1053'>1054</a>\u001b[0m first_ids \u001b[39m=\u001b[39m get_input_ids(text)\n\u001b[1;32m   <a href='file:///mnt/c/Users/TFLORA/dl-tutorial/venv/lib/python3.8/site-packages/transformers/tokenization_utils.py?line=1054'>1055</a>\u001b[0m second_ids \u001b[39m=\u001b[39m get_input_ids(text_pair) \u001b[39mif\u001b[39;00m text_pair \u001b[39mis\u001b[39;00m \u001b[39mnot\u001b[39;00m \u001b[39mNone\u001b[39;00m \u001b[39melse\u001b[39;00m \u001b[39mNone\u001b[39;00m\n\u001b[1;32m   <a href='file:///mnt/c/Users/TFLORA/dl-tutorial/venv/lib/python3.8/site-packages/transformers/tokenization_utils.py?line=1056'>1057</a>\u001b[0m \u001b[39mreturn\u001b[39;00m \u001b[39mself\u001b[39m\u001b[39m.\u001b[39mprepare_for_model(\n\u001b[1;32m   <a href='file:///mnt/c/Users/TFLORA/dl-tutorial/venv/lib/python3.8/site-packages/transformers/tokenization_utils.py?line=1057'>1058</a>\u001b[0m     first_ids,\n\u001b[1;32m   <a href='file:///mnt/c/Users/TFLORA/dl-tutorial/venv/lib/python3.8/site-packages/transformers/tokenization_utils.py?line=1058'>1059</a>\u001b[0m     pair_ids\u001b[39m=\u001b[39msecond_ids,\n\u001b[0;32m   (...)\u001b[0m\n\u001b[1;32m   <a href='file:///mnt/c/Users/TFLORA/dl-tutorial/venv/lib/python3.8/site-packages/transformers/tokenization_utils.py?line=1068'>1069</a>\u001b[0m     return_special_tokens_mask\u001b[39m=\u001b[39mreturn_special_tokens_mask,\n\u001b[1;32m   <a href='file:///mnt/c/Users/TFLORA/dl-tutorial/venv/lib/python3.8/site-packages/transformers/tokenization_utils.py?line=1069'>1070</a>\u001b[0m )\n",
      "File \u001b[0;32m/mnt/c/Users/TFLORA/dl-tutorial/venv/lib/python3.8/site-packages/transformers/tokenization_utils.py:1028\u001b[0m, in \u001b[0;36mPreTrainedTokenizer.encode_plus.<locals>.get_input_ids\u001b[0;34m(text)\u001b[0m\n\u001b[1;32m   <a href='file:///mnt/c/Users/TFLORA/dl-tutorial/venv/lib/python3.8/site-packages/transformers/tokenization_utils.py?line=1025'>1026</a>\u001b[0m \u001b[39mdef\u001b[39;00m \u001b[39mget_input_ids\u001b[39m(text):\n\u001b[1;32m   <a href='file:///mnt/c/Users/TFLORA/dl-tutorial/venv/lib/python3.8/site-packages/transformers/tokenization_utils.py?line=1026'>1027</a>\u001b[0m     \u001b[39mif\u001b[39;00m \u001b[39misinstance\u001b[39m(text, \u001b[39mstr\u001b[39m):\n\u001b[0;32m-> <a href='file:///mnt/c/Users/TFLORA/dl-tutorial/venv/lib/python3.8/site-packages/transformers/tokenization_utils.py?line=1027'>1028</a>\u001b[0m         tokens \u001b[39m=\u001b[39m \u001b[39mself\u001b[39;49m\u001b[39m.\u001b[39;49mtokenize(text, add_special_tokens\u001b[39m=\u001b[39;49madd_special_tokens, \u001b[39m*\u001b[39;49m\u001b[39m*\u001b[39;49mkwargs)\n\u001b[1;32m   <a href='file:///mnt/c/Users/TFLORA/dl-tutorial/venv/lib/python3.8/site-packages/transformers/tokenization_utils.py?line=1028'>1029</a>\u001b[0m         \u001b[39mreturn\u001b[39;00m \u001b[39mself\u001b[39m\u001b[39m.\u001b[39mconvert_tokens_to_ids(tokens)\n\u001b[1;32m   <a href='file:///mnt/c/Users/TFLORA/dl-tutorial/venv/lib/python3.8/site-packages/transformers/tokenization_utils.py?line=1029'>1030</a>\u001b[0m     \u001b[39melif\u001b[39;00m \u001b[39misinstance\u001b[39m(text, (\u001b[39mlist\u001b[39m, \u001b[39mtuple\u001b[39m)) \u001b[39mand\u001b[39;00m \u001b[39mlen\u001b[39m(text) \u001b[39m>\u001b[39m \u001b[39m0\u001b[39m \u001b[39mand\u001b[39;00m \u001b[39misinstance\u001b[39m(text[\u001b[39m0\u001b[39m], \u001b[39mstr\u001b[39m):\n",
      "File \u001b[0;32m/mnt/c/Users/TFLORA/dl-tutorial/venv/lib/python3.8/site-packages/transformers/tokenization_utils.py:815\u001b[0m, in \u001b[0;36mPreTrainedTokenizer.tokenize\u001b[0;34m(self, text, **kwargs)\u001b[0m\n\u001b[1;32m    <a href='file:///mnt/c/Users/TFLORA/dl-tutorial/venv/lib/python3.8/site-packages/transformers/tokenization_utils.py?line=804'>805</a>\u001b[0m     \u001b[39mreturn\u001b[39;00m \u001b[39mlist\u001b[39m(\n\u001b[1;32m    <a href='file:///mnt/c/Users/TFLORA/dl-tutorial/venv/lib/python3.8/site-packages/transformers/tokenization_utils.py?line=805'>806</a>\u001b[0m         itertools\u001b[39m.\u001b[39mchain\u001b[39m.\u001b[39mfrom_iterable(\n\u001b[1;32m    <a href='file:///mnt/c/Users/TFLORA/dl-tutorial/venv/lib/python3.8/site-packages/transformers/tokenization_utils.py?line=806'>807</a>\u001b[0m             (\n\u001b[0;32m   (...)\u001b[0m\n\u001b[1;32m    <a href='file:///mnt/c/Users/TFLORA/dl-tutorial/venv/lib/python3.8/site-packages/transformers/tokenization_utils.py?line=810'>811</a>\u001b[0m         )\n\u001b[1;32m    <a href='file:///mnt/c/Users/TFLORA/dl-tutorial/venv/lib/python3.8/site-packages/transformers/tokenization_utils.py?line=811'>812</a>\u001b[0m     )\n\u001b[1;32m    <a href='file:///mnt/c/Users/TFLORA/dl-tutorial/venv/lib/python3.8/site-packages/transformers/tokenization_utils.py?line=813'>814</a>\u001b[0m added_tokens \u001b[39m=\u001b[39m \u001b[39mself\u001b[39m\u001b[39m.\u001b[39munique_added_tokens_encoder\n\u001b[0;32m--> <a href='file:///mnt/c/Users/TFLORA/dl-tutorial/venv/lib/python3.8/site-packages/transformers/tokenization_utils.py?line=814'>815</a>\u001b[0m tokenized_text \u001b[39m=\u001b[39m split_on_tokens(added_tokens, text)\n\u001b[1;32m    <a href='file:///mnt/c/Users/TFLORA/dl-tutorial/venv/lib/python3.8/site-packages/transformers/tokenization_utils.py?line=815'>816</a>\u001b[0m \u001b[39mreturn\u001b[39;00m tokenized_text\n",
      "File \u001b[0;32m/mnt/c/Users/TFLORA/dl-tutorial/venv/lib/python3.8/site-packages/transformers/tokenization_utils.py:805\u001b[0m, in \u001b[0;36mPreTrainedTokenizer.tokenize.<locals>.split_on_tokens\u001b[0;34m(tok_list, text)\u001b[0m\n\u001b[1;32m    <a href='file:///mnt/c/Users/TFLORA/dl-tutorial/venv/lib/python3.8/site-packages/transformers/tokenization_utils.py?line=801'>802</a>\u001b[0m             tokenized_text \u001b[39m+\u001b[39m\u001b[39m=\u001b[39m [sub_text]\n\u001b[1;32m    <a href='file:///mnt/c/Users/TFLORA/dl-tutorial/venv/lib/python3.8/site-packages/transformers/tokenization_utils.py?line=802'>803</a>\u001b[0m     text_list \u001b[39m=\u001b[39m tokenized_text\n\u001b[0;32m--> <a href='file:///mnt/c/Users/TFLORA/dl-tutorial/venv/lib/python3.8/site-packages/transformers/tokenization_utils.py?line=804'>805</a>\u001b[0m \u001b[39mreturn\u001b[39;00m \u001b[39mlist\u001b[39;49m(\n\u001b[1;32m    <a href='file:///mnt/c/Users/TFLORA/dl-tutorial/venv/lib/python3.8/site-packages/transformers/tokenization_utils.py?line=805'>806</a>\u001b[0m     itertools\u001b[39m.\u001b[39;49mchain\u001b[39m.\u001b[39;49mfrom_iterable(\n\u001b[1;32m    <a href='file:///mnt/c/Users/TFLORA/dl-tutorial/venv/lib/python3.8/site-packages/transformers/tokenization_utils.py?line=806'>807</a>\u001b[0m         (\n\u001b[1;32m    <a href='file:///mnt/c/Users/TFLORA/dl-tutorial/venv/lib/python3.8/site-packages/transformers/tokenization_utils.py?line=807'>808</a>\u001b[0m             \u001b[39mself\u001b[39;49m\u001b[39m.\u001b[39;49m_tokenize(token) \u001b[39mif\u001b[39;49;00m token \u001b[39mnot\u001b[39;49;00m \u001b[39min\u001b[39;49;00m \u001b[39mself\u001b[39;49m\u001b[39m.\u001b[39;49munique_added_tokens_encoder \u001b[39melse\u001b[39;49;00m [token]\n\u001b[1;32m    <a href='file:///mnt/c/Users/TFLORA/dl-tutorial/venv/lib/python3.8/site-packages/transformers/tokenization_utils.py?line=808'>809</a>\u001b[0m             \u001b[39mfor\u001b[39;49;00m token \u001b[39min\u001b[39;49;00m tokenized_text\n\u001b[1;32m    <a href='file:///mnt/c/Users/TFLORA/dl-tutorial/venv/lib/python3.8/site-packages/transformers/tokenization_utils.py?line=809'>810</a>\u001b[0m         )\n\u001b[1;32m    <a href='file:///mnt/c/Users/TFLORA/dl-tutorial/venv/lib/python3.8/site-packages/transformers/tokenization_utils.py?line=810'>811</a>\u001b[0m     )\n\u001b[1;32m    <a href='file:///mnt/c/Users/TFLORA/dl-tutorial/venv/lib/python3.8/site-packages/transformers/tokenization_utils.py?line=811'>812</a>\u001b[0m )\n",
      "File \u001b[0;32m/mnt/c/Users/TFLORA/dl-tutorial/venv/lib/python3.8/site-packages/transformers/tokenization_utils.py:808\u001b[0m, in \u001b[0;36m<genexpr>\u001b[0;34m(.0)\u001b[0m\n\u001b[1;32m    <a href='file:///mnt/c/Users/TFLORA/dl-tutorial/venv/lib/python3.8/site-packages/transformers/tokenization_utils.py?line=801'>802</a>\u001b[0m             tokenized_text \u001b[39m+\u001b[39m\u001b[39m=\u001b[39m [sub_text]\n\u001b[1;32m    <a href='file:///mnt/c/Users/TFLORA/dl-tutorial/venv/lib/python3.8/site-packages/transformers/tokenization_utils.py?line=802'>803</a>\u001b[0m     text_list \u001b[39m=\u001b[39m tokenized_text\n\u001b[1;32m    <a href='file:///mnt/c/Users/TFLORA/dl-tutorial/venv/lib/python3.8/site-packages/transformers/tokenization_utils.py?line=804'>805</a>\u001b[0m \u001b[39mreturn\u001b[39;00m \u001b[39mlist\u001b[39m(\n\u001b[1;32m    <a href='file:///mnt/c/Users/TFLORA/dl-tutorial/venv/lib/python3.8/site-packages/transformers/tokenization_utils.py?line=805'>806</a>\u001b[0m     itertools\u001b[39m.\u001b[39mchain\u001b[39m.\u001b[39mfrom_iterable(\n\u001b[1;32m    <a href='file:///mnt/c/Users/TFLORA/dl-tutorial/venv/lib/python3.8/site-packages/transformers/tokenization_utils.py?line=806'>807</a>\u001b[0m         (\n\u001b[0;32m--> <a href='file:///mnt/c/Users/TFLORA/dl-tutorial/venv/lib/python3.8/site-packages/transformers/tokenization_utils.py?line=807'>808</a>\u001b[0m             \u001b[39mself\u001b[39;49m\u001b[39m.\u001b[39;49m_tokenize(token) \u001b[39mif\u001b[39;00m token \u001b[39mnot\u001b[39;00m \u001b[39min\u001b[39;00m \u001b[39mself\u001b[39m\u001b[39m.\u001b[39munique_added_tokens_encoder \u001b[39melse\u001b[39;00m [token]\n\u001b[1;32m    <a href='file:///mnt/c/Users/TFLORA/dl-tutorial/venv/lib/python3.8/site-packages/transformers/tokenization_utils.py?line=808'>809</a>\u001b[0m             \u001b[39mfor\u001b[39;00m token \u001b[39min\u001b[39;00m tokenized_text\n\u001b[1;32m    <a href='file:///mnt/c/Users/TFLORA/dl-tutorial/venv/lib/python3.8/site-packages/transformers/tokenization_utils.py?line=809'>810</a>\u001b[0m         )\n\u001b[1;32m    <a href='file:///mnt/c/Users/TFLORA/dl-tutorial/venv/lib/python3.8/site-packages/transformers/tokenization_utils.py?line=810'>811</a>\u001b[0m     )\n\u001b[1;32m    <a href='file:///mnt/c/Users/TFLORA/dl-tutorial/venv/lib/python3.8/site-packages/transformers/tokenization_utils.py?line=811'>812</a>\u001b[0m )\n",
      "File \u001b[0;32m/mnt/c/Users/TFLORA/dl-tutorial/venv/lib/python3.8/site-packages/transformers/tokenization_bert.py:212\u001b[0m, in \u001b[0;36mBertTokenizer._tokenize\u001b[0;34m(self, text)\u001b[0m\n\u001b[1;32m    <a href='file:///mnt/c/Users/TFLORA/dl-tutorial/venv/lib/python3.8/site-packages/transformers/tokenization_bert.py?line=209'>210</a>\u001b[0m split_tokens \u001b[39m=\u001b[39m []\n\u001b[1;32m    <a href='file:///mnt/c/Users/TFLORA/dl-tutorial/venv/lib/python3.8/site-packages/transformers/tokenization_bert.py?line=210'>211</a>\u001b[0m \u001b[39mif\u001b[39;00m \u001b[39mself\u001b[39m\u001b[39m.\u001b[39mdo_basic_tokenize:\n\u001b[0;32m--> <a href='file:///mnt/c/Users/TFLORA/dl-tutorial/venv/lib/python3.8/site-packages/transformers/tokenization_bert.py?line=211'>212</a>\u001b[0m     \u001b[39mfor\u001b[39;00m token \u001b[39min\u001b[39;00m \u001b[39mself\u001b[39;49m\u001b[39m.\u001b[39;49mbasic_tokenizer\u001b[39m.\u001b[39;49mtokenize(text, never_split\u001b[39m=\u001b[39;49m\u001b[39mself\u001b[39;49m\u001b[39m.\u001b[39;49mall_special_tokens):\n\u001b[1;32m    <a href='file:///mnt/c/Users/TFLORA/dl-tutorial/venv/lib/python3.8/site-packages/transformers/tokenization_bert.py?line=212'>213</a>\u001b[0m         \u001b[39mfor\u001b[39;00m sub_token \u001b[39min\u001b[39;00m \u001b[39mself\u001b[39m\u001b[39m.\u001b[39mwordpiece_tokenizer\u001b[39m.\u001b[39mtokenize(token):\n\u001b[1;32m    <a href='file:///mnt/c/Users/TFLORA/dl-tutorial/venv/lib/python3.8/site-packages/transformers/tokenization_bert.py?line=213'>214</a>\u001b[0m             split_tokens\u001b[39m.\u001b[39mappend(sub_token)\n",
      "File \u001b[0;32m/mnt/c/Users/TFLORA/dl-tutorial/venv/lib/python3.8/site-packages/transformers/tokenization_bert.py:382\u001b[0m, in \u001b[0;36mBasicTokenizer.tokenize\u001b[0;34m(self, text, never_split)\u001b[0m\n\u001b[1;32m    <a href='file:///mnt/c/Users/TFLORA/dl-tutorial/venv/lib/python3.8/site-packages/transformers/tokenization_bert.py?line=371'>372</a>\u001b[0m \u001b[39m\"\"\" Basic Tokenization of a piece of text.\u001b[39;00m\n\u001b[1;32m    <a href='file:///mnt/c/Users/TFLORA/dl-tutorial/venv/lib/python3.8/site-packages/transformers/tokenization_bert.py?line=372'>373</a>\u001b[0m \u001b[39m    Split on \"white spaces\" only, for sub-word tokenization, see WordPieceTokenizer.\u001b[39;00m\n\u001b[1;32m    <a href='file:///mnt/c/Users/TFLORA/dl-tutorial/venv/lib/python3.8/site-packages/transformers/tokenization_bert.py?line=373'>374</a>\u001b[0m \n\u001b[0;32m   (...)\u001b[0m\n\u001b[1;32m    <a href='file:///mnt/c/Users/TFLORA/dl-tutorial/venv/lib/python3.8/site-packages/transformers/tokenization_bert.py?line=378'>379</a>\u001b[0m \u001b[39m        List of token not to split.\u001b[39;00m\n\u001b[1;32m    <a href='file:///mnt/c/Users/TFLORA/dl-tutorial/venv/lib/python3.8/site-packages/transformers/tokenization_bert.py?line=379'>380</a>\u001b[0m \u001b[39m\"\"\"\u001b[39;00m\n\u001b[1;32m    <a href='file:///mnt/c/Users/TFLORA/dl-tutorial/venv/lib/python3.8/site-packages/transformers/tokenization_bert.py?line=380'>381</a>\u001b[0m never_split \u001b[39m=\u001b[39m \u001b[39mself\u001b[39m\u001b[39m.\u001b[39mnever_split \u001b[39m+\u001b[39m (never_split \u001b[39mif\u001b[39;00m never_split \u001b[39mis\u001b[39;00m \u001b[39mnot\u001b[39;00m \u001b[39mNone\u001b[39;00m \u001b[39melse\u001b[39;00m [])\n\u001b[0;32m--> <a href='file:///mnt/c/Users/TFLORA/dl-tutorial/venv/lib/python3.8/site-packages/transformers/tokenization_bert.py?line=381'>382</a>\u001b[0m text \u001b[39m=\u001b[39m \u001b[39mself\u001b[39;49m\u001b[39m.\u001b[39;49m_clean_text(text)\n\u001b[1;32m    <a href='file:///mnt/c/Users/TFLORA/dl-tutorial/venv/lib/python3.8/site-packages/transformers/tokenization_bert.py?line=382'>383</a>\u001b[0m \u001b[39m# This was added on November 1st, 2018 for the multilingual and Chinese\u001b[39;00m\n\u001b[1;32m    <a href='file:///mnt/c/Users/TFLORA/dl-tutorial/venv/lib/python3.8/site-packages/transformers/tokenization_bert.py?line=383'>384</a>\u001b[0m \u001b[39m# models. This is also applied to the English models now, but it doesn't\u001b[39;00m\n\u001b[1;32m    <a href='file:///mnt/c/Users/TFLORA/dl-tutorial/venv/lib/python3.8/site-packages/transformers/tokenization_bert.py?line=384'>385</a>\u001b[0m \u001b[39m# matter since the English models were not trained on any Chinese data\u001b[39;00m\n\u001b[1;32m    <a href='file:///mnt/c/Users/TFLORA/dl-tutorial/venv/lib/python3.8/site-packages/transformers/tokenization_bert.py?line=385'>386</a>\u001b[0m \u001b[39m# and generally don't have any Chinese data in them (there are Chinese\u001b[39;00m\n\u001b[1;32m    <a href='file:///mnt/c/Users/TFLORA/dl-tutorial/venv/lib/python3.8/site-packages/transformers/tokenization_bert.py?line=386'>387</a>\u001b[0m \u001b[39m# characters in the vocabulary because Wikipedia does have some Chinese\u001b[39;00m\n\u001b[1;32m    <a href='file:///mnt/c/Users/TFLORA/dl-tutorial/venv/lib/python3.8/site-packages/transformers/tokenization_bert.py?line=387'>388</a>\u001b[0m \u001b[39m# words in the English Wikipedia.).\u001b[39;00m\n\u001b[1;32m    <a href='file:///mnt/c/Users/TFLORA/dl-tutorial/venv/lib/python3.8/site-packages/transformers/tokenization_bert.py?line=388'>389</a>\u001b[0m \u001b[39mif\u001b[39;00m \u001b[39mself\u001b[39m\u001b[39m.\u001b[39mtokenize_chinese_chars:\n",
      "File \u001b[0;32m/mnt/c/Users/TFLORA/dl-tutorial/venv/lib/python3.8/site-packages/transformers/tokenization_bert.py:477\u001b[0m, in \u001b[0;36mBasicTokenizer._clean_text\u001b[0;34m(self, text)\u001b[0m\n\u001b[1;32m    <a href='file:///mnt/c/Users/TFLORA/dl-tutorial/venv/lib/python3.8/site-packages/transformers/tokenization_bert.py?line=474'>475</a>\u001b[0m \u001b[39mfor\u001b[39;00m char \u001b[39min\u001b[39;00m text:\n\u001b[1;32m    <a href='file:///mnt/c/Users/TFLORA/dl-tutorial/venv/lib/python3.8/site-packages/transformers/tokenization_bert.py?line=475'>476</a>\u001b[0m     cp \u001b[39m=\u001b[39m \u001b[39mord\u001b[39m(char)\n\u001b[0;32m--> <a href='file:///mnt/c/Users/TFLORA/dl-tutorial/venv/lib/python3.8/site-packages/transformers/tokenization_bert.py?line=476'>477</a>\u001b[0m     \u001b[39mif\u001b[39;00m cp \u001b[39m==\u001b[39m \u001b[39m0\u001b[39m \u001b[39mor\u001b[39;00m cp \u001b[39m==\u001b[39m \u001b[39m0xFFFD\u001b[39m \u001b[39mor\u001b[39;00m _is_control(char):\n\u001b[1;32m    <a href='file:///mnt/c/Users/TFLORA/dl-tutorial/venv/lib/python3.8/site-packages/transformers/tokenization_bert.py?line=477'>478</a>\u001b[0m         \u001b[39mcontinue\u001b[39;00m\n\u001b[1;32m    <a href='file:///mnt/c/Users/TFLORA/dl-tutorial/venv/lib/python3.8/site-packages/transformers/tokenization_bert.py?line=478'>479</a>\u001b[0m     \u001b[39mif\u001b[39;00m _is_whitespace(char):\n",
      "\u001b[0;31mKeyboardInterrupt\u001b[0m: "
     ]
    }
   ],
   "source": [
    "# token_lens = []\n",
    "# for review in df.text:\n",
    "#     tokens = tokenizer.encode(review, max_length=512)"
   ]
  },
  {
   "cell_type": "code",
   "execution_count": null,
   "metadata": {},
   "outputs": [],
   "source": []
  },
  {
   "cell_type": "code",
   "execution_count": null,
   "metadata": {},
   "outputs": [],
   "source": []
  },
  {
   "cell_type": "code",
   "execution_count": null,
   "metadata": {},
   "outputs": [],
   "source": []
  },
  {
   "cell_type": "markdown",
   "metadata": {},
   "source": [
    "### Fine-tuning"
   ]
  },
  {
   "cell_type": "code",
   "execution_count": null,
   "metadata": {},
   "outputs": [],
   "source": []
  },
  {
   "cell_type": "code",
   "execution_count": null,
   "metadata": {},
   "outputs": [],
   "source": []
  },
  {
   "cell_type": "markdown",
   "metadata": {},
   "source": [
    "### Evaluation"
   ]
  },
  {
   "cell_type": "code",
   "execution_count": null,
   "metadata": {},
   "outputs": [],
   "source": []
  },
  {
   "cell_type": "code",
   "execution_count": null,
   "metadata": {},
   "outputs": [],
   "source": []
  },
  {
   "cell_type": "code",
   "execution_count": null,
   "metadata": {},
   "outputs": [],
   "source": []
  },
  {
   "cell_type": "markdown",
   "metadata": {},
   "source": [
    "### Results & Interpretation"
   ]
  },
  {
   "cell_type": "code",
   "execution_count": null,
   "metadata": {},
   "outputs": [],
   "source": []
  },
  {
   "cell_type": "markdown",
   "metadata": {},
   "source": []
  },
  {
   "cell_type": "markdown",
   "metadata": {},
   "source": [
    "### References\n",
    "Alammar, J. (2019). A visual guide to using BERT for the first time. Retrieved from https://jalammar.github.io/a-visual-guide-to-using-bert-for-the-first-time/\n",
    "\n"
   ]
  }
 ],
 "metadata": {
  "interpreter": {
   "hash": "f5fdaf5874c9989aa124fe6425fe4d0f58d16223f1f8da672ef4d47042f7fc45"
  },
  "kernelspec": {
   "display_name": "Python 3.8.10 ('venv')",
   "language": "python",
   "name": "python3"
  },
  "language_info": {
   "codemirror_mode": {
    "name": "ipython",
    "version": 3
   },
   "file_extension": ".py",
   "mimetype": "text/x-python",
   "name": "python",
   "nbconvert_exporter": "python",
   "pygments_lexer": "ipython3",
   "version": "3.8.10"
  },
  "orig_nbformat": 4
 },
 "nbformat": 4,
 "nbformat_minor": 2
}
